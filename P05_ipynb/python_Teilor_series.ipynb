{
 "cells": [
  {
   "cell_type": "markdown",
   "metadata": {},
   "source": [
    "# Laboratorijas darbs Nr.1. - Teilora rindas -  atskaite"
   ]
  },
  {
   "cell_type": "markdown",
   "metadata": {},
   "source": [
    "## Teorija"
   ]
  },
  {
   "cell_type": "markdown",
   "metadata": {},
   "source": [
    "Izmantojot manas funkcijas exp(-x) Teilora rindas un rekurences izteiksmes, es uzrakstīju programmu, kura skaita funkcijas vērtību, kuru ievada lietotājs."
   ]
  },
  {
   "cell_type": "markdown",
   "metadata": {},
   "source": [
    "## Kods"
   ]
  },
  {
   "cell_type": "code",
   "execution_count": 78,
   "metadata": {},
   "outputs": [
    {
     "name": "stdout",
     "output_type": "stream",
     "text": [
      "Pētījama funkcija - y = exp(-x)\n",
      "Funkcijai y = exp(-x) definīcijas apgabals ir R\n",
      "Cien. liet., lūdzu ievadi x (piem. - 2.05) - 13\n",
      "Cien. liet., lūdzu ievadi robežu no kurienes Tu gribi uzzīmēt grafiku (no a) - 2\n",
      "Cien. liet., lūdzu ievadi robežu līdz kurienei Tu gribi uzzīmēt grafiku (līdz b) - 25\n",
      "y=exp( -13.0 ) =  2.2603294069810542e-06\n",
      "Izmantojot Teilora rindas:\n",
      "a0 =  1.0 \tS0 =  1.0\n",
      "a205 =  -8.395974088470546e-159 \tS205 =  2.2603330610920197e-06\n",
      "a499 =  -0.0 \tS499 =  2.2603330610920197e-06\n",
      "a500 =  0.0 \tS500 =  2.2603330610920197e-06\n",
      "a999 =  -0.0 \tS999 =  2.2603330610920197e-06\n",
      "a1000 =  0.0 \tS1000 =  2.2603330610920197e-06\n",
      "None\n",
      "\n",
      "\n",
      "     1000\n",
      "\n",
      "     ----\n",
      "\n",
      "     \\           k   k\n",
      "\n",
      "      \\      (-1) * x\n",
      "\n",
      "f(x)= |    --------------\n",
      "\n",
      "      /         k!\n",
      "\n",
      "     /\n",
      "\n",
      "     ----\n",
      "\n",
      "      k=0\n",
      "\n",
      "\n",
      "\n",
      "           k\n",
      "\n",
      "       (-1) * x\n",
      "\n",
      "R=   --------------\n",
      "\n",
      "              k-1\n",
      "\n",
      "       k * (-1)\n",
      "\n"
     ]
    },
    {
     "data": {
      "image/png": "[encoded data removed]",
      "text/plain": [
       "<matplotlib.figure.Figure at 0x7f5a9e80f438>"
      ]
     },
     "metadata": {},
     "output_type": "display_data"
    },
    {
     "data": {
      "image/png": "[encoded data removed]",
      "text/plain": [
       "<matplotlib.figure.Figure at 0x7f5a9edae940>"
      ]
     },
     "metadata": {},
     "output_type": "display_data"
    }
   ],
   "source": [
    "from math import exp\n",
    "from math import factorial\n",
    "import matplotlib.pyplot as plt\n",
    "import numpy as np\n",
    "%matplotlib inline\n",
    "\n",
    "print(\"Pētījama funkcija - y = exp(-x)\")\n",
    "print(\"Funkcijai y = exp(-x) definīcijas apgabals ir R\")\n",
    "np.random.seed(19680801) # Fixing random state for reproducibility\n",
    "xstr = input(\"Cien. liet., lūdzu ievadi x (piem. - 2.05) - \")\n",
    "aplot = float(input(\"Cien. liet., lūdzu ievadi robežu no kurienes Tu gribi uzzīmēt grafiku (no a) - \"))\n",
    "bplot = float(input(\"Cien. liet., lūdzu ievadi robežu līdz kurienei Tu gribi uzzīmēt grafiku (līdz b) - \"))\n",
    "x = float(xstr)\n",
    "y = exp(-x)\n",
    "xdataF = []\n",
    "ydataF = []\n",
    "xdata_endF = 0\n",
    "xdataT = []\n",
    "ydataT = []\n",
    "print(\"y=exp(\",-x,\") = \",exp(-x))\n",
    "print(\"Izmantojot Teilora rindas:\")\n",
    "def func_exp_taylor(xt,printed=True):\n",
    "    k = 0\n",
    "    a = ((-1)**k)*(xt**k)/1\n",
    "    S = a\n",
    "    while(k<1000):\n",
    "        if printed:\n",
    "            if(k==0):\n",
    "                print(\"a0 = \",a,\"\\tS0 = \",S)\n",
    "        k = k+1\n",
    "        a = a * (((-1)**k)*x)/(k*((-1)**(k-1)))\n",
    "        S = S+a\n",
    "        if printed:\n",
    "            if(k==205):\n",
    "                print(\"a205 = \",a,\"\\tS205 = \",S)\n",
    "            if(k==499):\n",
    "                print(\"a499 = \",a,\"\\tS499 = \",S)\n",
    "            if(k==500):\n",
    "                print(\"a500 = \",a,\"\\tS500 = \",S)\n",
    "            if(k==999):\n",
    "                print(\"a999 = \",a,\"\\tS999 = \",S)\n",
    "            if(k==1000):\n",
    "                print(\"a1000 = \",a,\"\\tS1000 = \",S)\n",
    "ft = func_exp_taylor(x)\n",
    "print(ft)\n",
    "\n",
    "print(\"\\n\")\n",
    "print(\"     1000\\n\");\n",
    "print(\"     ----\\n\");\n",
    "print(\"     \\\\           k   k\\n\");\n",
    "print(\"      \\\\      (-1) * x\\n\");\n",
    "print(\"f(x)= |    --------------\\n\");\n",
    "print(\"      /         k!\\n\");\n",
    "print(\"     /\\n\");\n",
    "print(\"     ----\\n\");\n",
    "print(\"      k=0\\n\");\n",
    "\n",
    "print(\"\\n\");\n",
    "print(\"           k\\n\");\n",
    "print(\"       (-1) * x\\n\");\n",
    "print(\"R=   --------------\\n\");\n",
    "print(\"              k-1\\n\");\n",
    "print(\"       k * (-1)\\n\");\n",
    "\n",
    "#MatPlotLib daļa\n",
    "# FUNK START\n",
    "while(bplot>=aplot): # Lai atrastu, cik vērtības mums ir vajadzīgas, lai būtu visi punkti izvēlētā intervālā\n",
    "    xdata_endF = xdata_endF + 1 # ar precizitāti 10^(-2)\n",
    "    bplot = bplot - 0.01\n",
    "\n",
    "for i in range(int(aplot),xdata_endF):\n",
    "    xdataF.append(aplot + ( float(i) / 100 ))\n",
    "\n",
    "for i in range(len(xdataF)):\n",
    "    ydataF.append(exp(-xdataF[i]))\n",
    "\n",
    "#Plot the data\n",
    "fig = plt.figure()\n",
    "ax = fig.add_subplot(1, 1, 1)\n",
    "ax.plot(xdataF, ydataF, color='tab:blue')\n",
    "ax.grid(color='black', linestyle='-', linewidth=1)\n",
    "\n",
    "ax.set_title('Funkcijas y=exp(-x) grafiks izmantojot funkcijas izteiksmi')\n",
    "\n",
    "# display the plot\n",
    "plt.show()\n",
    "\n",
    "#FUNK END\n",
    "#TAYLOR START\n",
    "xdataT = xdataF\n",
    "for i in range(len(xdataT)):\n",
    "    ydataT.append(func_exp_taylor(xdataT[i],printed=False))\n",
    "\n",
    "#Plot the data\n",
    "fig = plt.figure()\n",
    "ax = fig.add_subplot(1, 1, 1)\n",
    "ax.plot(xdataF, ydataF, color='tab:blue')\n",
    "ax.grid(color='black', linestyle='-', linewidth=1)\n",
    "\n",
    "ax.set_title('Funkcijas y=exp(-x) grafiks izmantojot Teilora rindas izteiksmi')\n",
    "\n",
    "# display the plot\n",
    "plt.show()\n",
    "#TAYLOR END\n",
    "    "
   ]
  },
  {
   "cell_type": "markdown",
   "metadata": {},
   "source": [
    "Skaitam \"a\" izmantojot Teilora rindas izteiksmi un pēc tam ciklā izmantojam rekurences izteiksmi. Pēc pēdējas 'a' vērtības testa, es secināju, ka pēdēja 'a' vērtība, kad 'a' nav 0 ir 205!"
   ]
  },
  {
   "cell_type": "markdown",
   "metadata": {},
   "source": [
    "## Analīze"
   ]
  },
  {
   "cell_type": "markdown",
   "metadata": {},
   "source": [
    "Beigās mēs redzam, ka aprēķināta funkcijas vērtība izmantojot Teilora rindas sakrīt ar funkcijas vērtību ar ļoti mazu kļūdu."
   ]
  }
 ],
 "metadata": {
  "kernelspec": {
   "display_name": "Python 3",
   "language": "python",
   "name": "python3"
  },
  "language_info": {
   "codemirror_mode": {
    "name": "ipython",
    "version": 3
   },
   "file_extension": ".py",
   "mimetype": "text/x-python",
   "name": "python",
   "nbconvert_exporter": "python",
   "pygments_lexer": "ipython3",
   "version": "3.6.9"
  }
 },
 "nbformat": 4,
 "nbformat_minor": 2
}
