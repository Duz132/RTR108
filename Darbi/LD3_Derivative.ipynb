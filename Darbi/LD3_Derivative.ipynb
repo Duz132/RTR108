{
 "cells": [
  {
   "cell_type": "markdown",
   "metadata": {},
   "source": [
    "# Laboratorijas darbs Nr.3. - Derivative - atskaite"
   ]
  },
  {
   "cell_type": "markdown",
   "metadata": {},
   "source": [
    "# Teorija"
   ]
  },
  {
   "cell_type": "markdown",
   "metadata": {},
   "source": [
    "Programma, kura skaita funkcijas atvasinājuma vērtības. Mana funkcija - exp(-x)."
   ]
  },
  {
   "cell_type": "markdown",
   "metadata": {},
   "source": [
    "# Kods"
   ]
  },
  {
   "cell_type": "code",
   "execution_count": 2,
   "metadata": {},
   "outputs": [
    {
     "name": "stdout",
     "output_type": "stream",
     "text": [
      "Cien, liet., uzraksti lūdzu robežas, kur zīmēt funkciju no a līdz b un precizitāti!\n",
      "\n",
      "Pi - 3.1415925 => 2Pi - 6.283185\n",
      "\n",
      "Precizitātes piemērs - 0.01 vai 0.001\n",
      "\n",
      "PIEMĒRS a=0, b=6.283185, precizitāte=0.0001!\n",
      "\n",
      "a = 0\n",
      "b = 6.283185\n",
      "Precizitāte = 0.0001\n"
     ]
    }
   ],
   "source": [
    "import math\n",
    "file = open('derivative3lab.dat','w')\n",
    "print(\"Cien, liet., uzraksti lūdzu robežas, kur zīmēt funkciju no a līdz b un precizitāti!\\n\")\n",
    "print(\"Pi - 3.1415925 => 2Pi - 6.283185\\n\")\n",
    "print(\"Precizitātes piemērs - 0.01 vai 0.001\\n\")\n",
    "print(\"PIEMĒRS a=0, b=6.283185, precizitāte=0.0001!\\n\")\n",
    "a = float(input(\"a = \"))\n",
    "b = float(input(\"b = \"))\n",
    "delta_x = float(input(\"Precizitāte = \"))\n",
    "x = a\n",
    "file.write(\"\\tx\\t\\te^-x\\t\\t(e^-x)\\'\\n\")\n",
    "while(x<b):\n",
    "    file.write(\"%10.10f\\t%10.10f\\t%10.10f\\n\"%(x,math.exp(-x),(-math.exp(-x+delta_x)+math.exp(-x))/delta_x))\n",
    "    x = x + delta_x\n",
    "file.close()"
   ]
  },
  {
   "cell_type": "markdown",
   "metadata": {},
   "source": [
    "Lietotājs ievada robežas, kur vajag skaitīt funkcijas un funkcijas atvasinājuma vērtības, un precizitāti. Pēc tam visus datus ieraksta failā un ar Gnuplot palīdzību mēs zīmējam funkcijas grafikus. Otrais atvasinājums manai funkcijai ir exp(-x), tāpēc es to nolemu nerakstīt"
   ]
  },
  {
   "cell_type": "markdown",
   "metadata": {},
   "source": [
    "# Analīze"
   ]
  },
  {
   "cell_type": "markdown",
   "metadata": {},
   "source": [
    "Rezultātā mēs redzam, ka funkcijas grafiki gandrīz neatšķirās."
   ]
  }
 ],
 "metadata": {
  "kernelspec": {
   "display_name": "Python 3",
   "language": "python",
   "name": "python3"
  },
  "language_info": {
   "codemirror_mode": {
    "name": "ipython",
    "version": 3
   },
   "file_extension": ".py",
   "mimetype": "text/x-python",
   "name": "python",
   "nbconvert_exporter": "python",
   "pygments_lexer": "ipython3",
   "version": "3.6.9"
  }
 },
 "nbformat": 4,
 "nbformat_minor": 2
}
