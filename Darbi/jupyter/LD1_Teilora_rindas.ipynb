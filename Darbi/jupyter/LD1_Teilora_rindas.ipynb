{
 "cells": [
  {
   "cell_type": "markdown",
   "metadata": {},
   "source": [
    "# Laboratorijas darbs Nr.1. - Teilora rindas -  atskaite"
   ]
  },
  {
   "cell_type": "markdown",
   "metadata": {},
   "source": [
    "## Teorija"
   ]
  },
  {
   "cell_type": "markdown",
   "metadata": {},
   "source": [
    "Izmantojot manas funkcijas exp(-x) Teilora rindas un rekurences izteiksmes, es uzrakstīju programmu, kura skaita funkcijas vērtību, kuru ievada lietotājs."
   ]
  },
  {
   "cell_type": "markdown",
   "metadata": {},
   "source": [
    "## Kods"
   ]
  },
  {
   "cell_type": "code",
   "execution_count": 1,
   "metadata": {},
   "outputs": [
    {
     "name": "stdout",
     "output_type": "stream",
     "text": [
      "Cien. liet., lūdzu ievadi x (piem. - 2.05) - 2.05\n",
      "y=exp( -2.05 ) =  0.12873490358780423\n",
      "a0 =  1.0 \tS0 =  1.0\n",
      "a205 =  -3e-323 \tS205 =  0.12873490358780437\n",
      "a499 =  -0.0 \tS499 =  0.12873490358780437\n",
      "a500 =  0.0 \tS500 =  0.12873490358780437\n",
      "a999 =  -0.0 \tS999 =  0.12873490358780437\n",
      "a1000 =  0.0 \tS1000 =  0.12873490358780437\n",
      "\n",
      "\n",
      "     1000\n",
      "\n",
      "     ----\n",
      "\n",
      "     \\           k   k\n",
      "\n",
      "      \\      (-1) * x\n",
      "\n",
      "f(x)= |    --------------\n",
      "\n",
      "      /         k!\n",
      "\n",
      "     /\n",
      "\n",
      "     ----\n",
      "\n",
      "      k=0\n",
      "\n",
      "\n",
      "\n",
      "           k\n",
      "\n",
      "       (-1) * x\n",
      "\n",
      "R=   --------------\n",
      "\n",
      "              k-1\n",
      "\n",
      "       k * (-1)\n",
      "\n"
     ]
    }
   ],
   "source": [
    "import math\n",
    "xstr = input(\"Cien. liet., lūdzu ievadi x (piem. - 2.05) - \")\n",
    "x = float(xstr)\n",
    "y = math.exp(-x)\n",
    "k = 0\n",
    "print(\"y=exp(\",-x,\") = \",math.exp(-x))\n",
    "a = ((-1)**k)*(x**k)/1\n",
    "S = a\n",
    "while(k<1000):\n",
    "    if(k==0):\n",
    "        print(\"a0 = \",a,\"\\tS0 = \",S)\n",
    "    k = k+1\n",
    "    a = a * (((-1)**k)*x)/(k*((-1)**(k-1)))\n",
    "    S = S+a\n",
    "    if(k==205):\n",
    "        print(\"a205 = \",a,\"\\tS205 = \",S)\n",
    "    if(k==499):\n",
    "        print(\"a499 = \",a,\"\\tS499 = \",S)\n",
    "    if(k==500):\n",
    "        print(\"a500 = \",a,\"\\tS500 = \",S)\n",
    "    if(k==999):\n",
    "        print(\"a999 = \",a,\"\\tS999 = \",S)\n",
    "print(\"a1000 = \",a,\"\\tS1000 = \",S)\n",
    "print(\"\\n\")\n",
    "print(\"     1000\\n\");\n",
    "print(\"     ----\\n\");\n",
    "print(\"     \\\\           k   k\\n\");\n",
    "print(\"      \\\\      (-1) * x\\n\");\n",
    "print(\"f(x)= |    --------------\\n\");\n",
    "print(\"      /         k!\\n\");\n",
    "print(\"     /\\n\");\n",
    "print(\"     ----\\n\");\n",
    "print(\"      k=0\\n\");\n",
    "\n",
    "print(\"\\n\");\n",
    "print(\"           k\\n\");\n",
    "print(\"       (-1) * x\\n\");\n",
    "print(\"R=   --------------\\n\");\n",
    "print(\"              k-1\\n\");\n",
    "print(\"       k * (-1)\\n\");"
   ]
  },
  {
   "cell_type": "markdown",
   "metadata": {},
   "source": [
    "Skaitam \"a\" izmantojot Teilora rindas izteiksmi un pēc tam ciklā izmantojam rekurences izteiksmi. Pēc pēdējas 'a' vērtības testa, es secināju, ka pēdēja 'a' vērtība, kad 'a' nav 0 ir 205!"
   ]
  },
  {
   "cell_type": "markdown",
   "metadata": {},
   "source": [
    "## Analīze"
   ]
  },
  {
   "cell_type": "markdown",
   "metadata": {},
   "source": [
    "Beigās mēs redzam, ka aprēķināta funkcijas vērtība izmantojot Teilora rindas sakrīt ar funkcijas vērtību."
   ]
  }
 ],
 "metadata": {
  "kernelspec": {
   "display_name": "Python 3",
   "language": "python",
   "name": "python3"
  },
  "language_info": {
   "codemirror_mode": {
    "name": "ipython",
    "version": 3
   },
   "file_extension": ".py",
   "mimetype": "text/x-python",
   "name": "python",
   "nbconvert_exporter": "python",
   "pygments_lexer": "ipython3",
   "version": "3.6.9"
  }
 },
 "nbformat": 4,
 "nbformat_minor": 2
}
