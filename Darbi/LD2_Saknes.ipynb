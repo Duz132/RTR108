{
 "cells": [
  {
   "cell_type": "markdown",
   "metadata": {},
   "source": [
    "# Laboratorijas darbs Nr.2. - Roots - atskaite"
   ]
  },
  {
   "cell_type": "markdown",
   "metadata": {},
   "source": [
    "## Teorija"
   ]
  },
  {
   "cell_type": "markdown",
   "metadata": {},
   "source": [
    "Programma, kura atrod sakņu skaitu. Mana funkcija - exp(-x)."
   ]
  },
  {
   "cell_type": "markdown",
   "metadata": {},
   "source": [
    "## Kods"
   ]
  },
  {
   "cell_type": "code",
   "execution_count": 1,
   "metadata": {},
   "outputs": [
    {
     "name": "stdout",
     "output_type": "stream",
     "text": [
      "Cien. liet, kādam Y tu gribi sameklēt atbilstošu x (piem. 0.01)?0.01\n",
      "Cien. liet, ievadi lūdzu b (piem. 4.71238875(1.5Pi))4.712\n",
      "Cien. liet., ievadi lūdzu precizitāti (piem. 0.00001)0.00001\n",
      "Intervālā no 0.010000 līdz 4.712000 exp(-x) funkcijas \n",
      "sakņu nav (vai tājā ir pāru sakņu skaits)\n",
      "\n",
      "Iterācijas nebija\n",
      "\n"
     ]
    }
   ],
   "source": [
    "import math\n",
    "k = 0\n",
    "ainp = input(\"Cien. liet, kādam Y tu gribi sameklēt atbilstošu x (piem. 0.01)?\")\n",
    "a = float(ainp)\n",
    "binp = input(\"Cien. liet, ievadi lūdzu b (piem. 4.71238875(1.5Pi))\")\n",
    "b = float(binp)\n",
    "delta_x_inp = input(\"Cien. liet., ievadi lūdzu precizitāti (piem. 0.00001)\")\n",
    "delta_x = float(delta_x_inp)\n",
    "funkca = math.exp(-a)\n",
    "funkcb = math.exp(-b)\n",
    "if (funkca*funkcb>0):\n",
    "    print(\"Intervālā no %2f līdz %2f exp(-x) funkcijas \"%(a,b))\n",
    "    print(\"sakņu nav (vai tājā ir pāru sakņu skaits)\\n\")\n",
    "    print(\"Iterācijas nebija\\n\")\n",
    "else:\n",
    "    print(\"exp(-%7.3f)=%7.3f\\t\\t\\t\\t\"%(a,math.exp(-a)))\n",
    "    print(\"exp(-%7.3f)=%7.3f\\n\"%(b,math.exp(-b)))\n",
    "\n",
    "    while ((b-a)>delta_x):\n",
    "        k = k+1\n",
    "        x = (a+b)/2\n",
    "        if (funkca*math.exp(-x)>0):\n",
    "            a = x\n",
    "        else:\n",
    "            b = x\n",
    "        print(\"%2d. exp(-%7.3f)=%7.3f\\t\"%(k,a,math.exp(-a)))\n",
    "        print(\"exp(-%7.3f)=%7.3f\\t\"%(x,math.exp(-x)))\n",
    "        print(\"exp(-%7.3f)=%7.3f\\n\"%(b,math.exp(-b)))\n",
    "\n",
    "    print(\"Sakne atrodas pie x=%.3f, jo exp(-x) ir %.3f\\n\"%(x,math.exp(-x)))\n",
    "    print(\"Intervāls sašaurinājas %d reizes\\n\"%k)"
   ]
  },
  {
   "cell_type": "markdown",
   "metadata": {},
   "source": [
    "## Analīze"
   ]
  },
  {
   "cell_type": "markdown",
   "metadata": {},
   "source": [
    "Rezultātā mēs redzam, ka intervālā no 0.01 līdz 1.5Pi funkcijai sakņu nav. Gribētos teikt, ka manai funkcijas vispār nav sakņu, jo tā ir eksponente(viņa nekad nekrusto OX asi)."
   ]
  }
 ],
 "metadata": {
  "kernelspec": {
   "display_name": "Python 3",
   "language": "python",
   "name": "python3"
  },
  "language_info": {
   "codemirror_mode": {
    "name": "ipython",
    "version": 3
   },
   "file_extension": ".py",
   "mimetype": "text/x-python",
   "name": "python",
   "nbconvert_exporter": "python",
   "pygments_lexer": "ipython3",
   "version": "3.6.9"
  }
 },
 "nbformat": 4,
 "nbformat_minor": 2
}
